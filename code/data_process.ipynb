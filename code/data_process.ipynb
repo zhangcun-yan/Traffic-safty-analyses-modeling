{
 "cells": [
  {
   "cell_type": "code",
   "execution_count": 23,
   "metadata": {},
   "outputs": [],
   "source": [
    "import pandas as pd\n",
    "import numpy as np\n",
    "# vehicle_ID ，vehicle_type,  x , y, speed, tan_acc, lat_acc, time\n",
    "ult_res = {}\n",
    "data_path = r'E:/CodeResource/Trajectorymodeling/Trajectory/Orginal_data/C0008.csv'\n",
    "data1 = pd.read_csv(data_path) # 读取csv文件\n",
    "veh_ID_list = []\n",
    "veh_type_list = []\n",
    "veh_x_list = []\n",
    "veh_y_list = []\n",
    "veh_speed_list = []\n",
    "veh_tan_acc_list = []\n",
    "veh_lat_acc_list = []\n",
    "veh_time_list = []\n",
    "for i in range(len(data1)):\n",
    "    str_res = data1.iloc[i][0] # 获取每一行的字符串结果\n",
    "    ls = str_res.split(\";\") # 将字符串分割成列表\n",
    "    vehicle_ID = ls[0]\n",
    "    vehicle_type = ls[1]\n",
    "    vehicle_trajectory = ls[10:] # 此列表为一维数组\n",
    "    vehicle_trajectory = [vehicle_trajectory[j:j+6] for j in range(0,len(vehicle_trajectory)-1,6)] # 通过列表推导式将一维数组转换为二维数组\n",
    "    vehicle_trajectory = np.array(vehicle_trajectory) # 转换为numpy数组形式，便于利用转置功能\n",
    "    vehicle_trajectory_T = vehicle_trajectory.T # 将二维数组vehicle_trajectory进行转置，便于获取x, y, speed, tan_acc, lat_acc, time的属性值\n",
    "    ls_x = vehicle_trajectory_T[0]\n",
    "    ls_x = [np.float64(m) for m in ls_x] # 将字符串转换为数字\n",
    "    ls_y = vehicle_trajectory_T[1]\n",
    "    ls_y = [np.float64(m) for m in ls_y]\n",
    "    ls_speed = vehicle_trajectory_T[2]\n",
    "    ls_speed = [np.float64(m) for m in ls_speed]\n",
    "    ls_tan_acc = vehicle_trajectory_T[3]\n",
    "    ls_tan_acc = [np.float64(m) for m in ls_tan_acc]\n",
    "    ls_lat_acc = vehicle_trajectory_T[4]\n",
    "    ls_lat_acc = [np.float64(m) for m in ls_lat_acc]\n",
    "    ls_time = vehicle_trajectory_T[5]\n",
    "    ls_time = [np.float64(m) for m in ls_time]\n",
    "    vehicle_ID_ls = [vehicle_ID]*len(ls_time)\n",
    "    vehicle_type_ls = [vehicle_type]*len(ls_time)\n",
    "    veh_ID_list= veh_ID_list + vehicle_ID_ls\n",
    "    veh_type_list = veh_type_list + vehicle_type_ls\n",
    "    veh_x_list = veh_x_list + ls_x\n",
    "    veh_y_list = veh_y_list + ls_y\n",
    "    veh_speed_list = veh_speed_list + ls_speed\n",
    "    veh_tan_acc_list = veh_tan_acc_list + ls_tan_acc\n",
    "    veh_lat_acc_list = veh_lat_acc_list + ls_lat_acc\n",
    "    veh_time_list = veh_time_list + ls_time\n",
    "\n",
    "ult_res['vehicle_id'] = veh_ID_list\n",
    "ult_res['vehicle_type'] = veh_type_list\n",
    "ult_res['frame_time'] = veh_time_list\n",
    "ult_res['world_x'] = veh_x_list\n",
    "ult_res['world_y'] = veh_y_list\n",
    "ult_res['vehicle_speed'] = veh_speed_list\n",
    "ult_res['vehicle_tan_acc'] = veh_tan_acc_list\n",
    "ult_res['vehicle_lat_acc'] = veh_lat_acc_list\n",
    "\n",
    "ult_res = pd.DataFrame(ult_res)\n",
    "ult_res.to_csv('E:/CodeResource/Trajectorymodeling/Trajectory/trajectory_data/trajectory_c0008.csv',index=False, header=True)"
   ]
  }
 ],
 "metadata": {
  "kernelspec": {
   "display_name": "Python 3 (ipykernel)",
   "language": "python",
   "name": "python3"
  },
  "language_info": {
   "codemirror_mode": {
    "name": "ipython",
    "version": 3
   },
   "file_extension": ".py",
   "mimetype": "text/x-python",
   "name": "python",
   "nbconvert_exporter": "python",
   "pygments_lexer": "ipython3",
   "version": "3.9.13"
  },
  "vscode": {
   "interpreter": {
    "hash": "12d738f96725d1c1f433a1d40c5369c2dd6b861cec3a8aa29acd662c91ac2528"
   }
  }
 },
 "nbformat": 4,
 "nbformat_minor": 2
}
