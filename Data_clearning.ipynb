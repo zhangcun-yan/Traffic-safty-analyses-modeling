{
  "nbformat": 4,
  "nbformat_minor": 0,
  "metadata": {
    "colab": {
      "provenance": [],
      "private_outputs": true,
      "authorship_tag": "ABX9TyNiIRBwbMsTQJUZ6lrxN83h",
      "include_colab_link": true
    },
    "kernelspec": {
      "name": "python3",
      "display_name": "Python 3"
    },
    "language_info": {
      "name": "python"
    },
    "accelerator": "GPU",
    "gpuClass": "standard"
  },
  "cells": [
    {
      "cell_type": "markdown",
      "metadata": {
        "id": "view-in-github",
        "colab_type": "text"
      },
      "source": [
        "<a href=\"https://colab.research.google.com/github/zhangcun-yan/Traffic-safty-analyses-modeling/blob/master/Data_clearning.ipynb\" target=\"_parent\"><img src=\"https://colab.research.google.com/assets/colab-badge.svg\" alt=\"Open In Colab\"/></a>"
      ]
    },
    {
      "cell_type": "markdown",
      "source": [
        "Importing the required libraries"
      ],
      "metadata": {
        "id": "IO4arQojWzYZ"
      }
    },
    {
      "cell_type": "code",
      "source": [
        "import numpy as np\n",
        "import pandas as pd\n",
        "# import io"
      ],
      "metadata": {
        "id": "4g31_62iXK7c"
      },
      "execution_count": null,
      "outputs": []
    },
    {
      "cell_type": "markdown",
      "source": [
        "Importing the data"
      ],
      "metadata": {
        "id": "qe3x9y1hXNt7"
      }
    },
    {
      "cell_type": "code",
      "source": [
        "Household_Data = pd.read_csv('/content/OD_Full_w_CTs.csv')\n",
        "OD_DATA = pd.DataFrame(Household_Data)\n",
        "# select the variable\n",
        "Od_data_used = OD_DATA['m_numero','m_pers','m_domsr','p_grage','p_statut','d_motif','d_mode1','person_id','home_ct16','ori_ct16','dest_ct16']\n",
        "Used_data = Od_data_used[Od_data_used['d_mode1'].notna()]\n",
        "# Household_Data = Household_Data.rename(columns={'m_numero': 'Household_id'})\n",
        "# select the household with 2 or more individuals\n",
        "Used_data_dependent = Used_data[Used_data['m_pers']>=2]\n",
        "Used_data_dependent"
      ],
      "metadata": {
        "id": "iVrMIKFWUj1A"
      },
      "execution_count": null,
      "outputs": []
    },
    {
      "cell_type": "markdown",
      "source": [
        "Extract the trip number based on the census！ Here we select the variable m_domsdr （2011 census subdivision (municipality)） as the connect variable.  \\\\\n",
        "Summarizing OD data at the census-tract level and linking it with the provided census information, use the 2016 census geographies. The 2016 census tracts for the home location, trip origin and trip destination are included in the last three columns of the OD data. \\\\\n",
        "They are labeled: \"home_ct16\", \"ori_ct16\" and \"dest_ct16\"."
      ],
      "metadata": {
        "id": "0WTZ5WJ_XW47"
      }
    },
    {
      "cell_type": "code",
      "source": [
        "Census_id = pd.unique(Household_Data['m_domsdr'])\n",
        "# first we should calculate the percentage of the walk\n",
        "element = ['Census_tract','Household_id','Travel_num','Walk_num','num_walk_1','num_walk_3']\n",
        "Total_b = pd.DataFrame(columns=element)\n",
        "for cen_id in Census_id:\n",
        "  'select the data in cen_id'\n",
        "  B = pd.DataFrame(columns=element)\n",
        "  cen_id_data = Household_Data[Household_Data['m_domsdr']==cen_id]\n",
        "  num_house_in_census = pd.unique(cen_id_data['m_numero'])\n",
        "  for id in range(0,len(num_house_in_census)):\n",
        "    household_id = num_house_in_census[id]\n",
        "    A = pd.DataFrame(columns=element)\n",
        "    Travel_type_household_in_cen = cen_id_data[cen_id_data['m_numero']==household_id]\n",
        "    Travel_number = Travel_type_household_in_cen.shape[0]\n",
        "    A.loc[0,'Census_tract']= cen_id\n",
        "    A.loc[0,'Household_id']= household_id\n",
        "    walk_number = Travel_type_household_in_cen[Travel_type_household_in_cen['d_mode1']==14].shape[0]\n",
        "    A.loc[0,'Travel_num']= Travel_number\n",
        "    A.loc[0,'Walk_num']= walk_number\n",
        "    if walk_number >=1:\n",
        "      A.loc[0,'num_walk_1']= 1\n",
        "    else:\n",
        "      A.loc[0,'num_walk_1']= 0  \n",
        "    if walk_number >=3:\n",
        "      A.loc[0,'num_walk_3'] = 1\n",
        "    else:\n",
        "      A.loc[0,'num_walk_3'] = 0\n",
        "    Contact_AB = [B,A]\n",
        "    B = pd.concat(Contact_AB)\n",
        "  contact_ABC = [Total_b,B]\n",
        "  Total_b = pd.concat(contact_ABC)\n",
        "Total_b.to_csv('/content/cencus_travel_type.csv')"
      ],
      "metadata": {
        "id": "EcVewm23jl78"
      },
      "execution_count": null,
      "outputs": []
    },
    {
      "cell_type": "markdown",
      "source": [
        "define the dependent variable"
      ],
      "metadata": {
        "id": "Ddf7mz-gPjhw"
      }
    },
    {
      "cell_type": "code",
      "source": [
        "dependent_val = pd.read_csv('/content/cencus_travel_type.csv')\n",
        "df_val = pd.DataFrame(dependent_val)\n",
        "# we should turn switch the val to the percentage\n",
        "Cen_unique_id = pd.unique(df_val['Census_tract'])\n",
        "Column_name = ['cen_id','walk_1_ratio','walk_3_ratio']\n",
        "var_dependent = pd.DataFrame(columns=Column_name)\n",
        "for cenid in Cen_unique_id:\n",
        "  AA = pd.DataFrame(columns = Column_name)\n",
        "  df_cen_id = df_val[df_val['Census_tract']==cenid]\n",
        "  num_sur = df_cen_id.shape[0]\n",
        "  num_walk_1_id = sum(df_cen_id['num_walk_1'])\n",
        "  num_walk_3_id = sum(df_cen_id['num_walk_3'])\n",
        "  AA.loc[0,'cen_id']= cenid\n",
        "  AA.loc[0,'walk_1_ratio']= (num_walk_1_id/num_sur)\n",
        "  AA.loc[0,'walk_3_ratio']= (num_walk_3_id/num_sur)\n",
        "  connect_a = [AA,var_dependent]\n",
        "  var_dependent = pd.concat(connect_a)\n",
        "var_dependent.to_csv('/content/var_dependent.csv')"
      ],
      "metadata": {
        "id": "n4FYp2n5CxPL"
      },
      "execution_count": null,
      "outputs": []
    },
    {
      "cell_type": "markdown",
      "source": [
        "Then connecte the dependent variable table with the independent variable"
      ],
      "metadata": {
        "id": "IIL54LdNP3Ou"
      }
    },
    {
      "cell_type": "code",
      "source": [
        "var_dependent = pd.merge(Total_b, Household_Data, how=\"left\", on=\"Household_id\")\n",
        "Total_table.to_csv('/content/sample_data/total_2016.csv')\n",
        "# print(Total_table_cts2016)"
      ],
      "metadata": {
        "id": "rq4qMtJ9Pgmn"
      },
      "execution_count": null,
      "outputs": []
    },
    {
      "cell_type": "code",
      "source": [
        "Total_table = pd.merge(Total_b, Household_Data, how=\"left\", on=\"Household_id\")\n",
        "Total_table.to_csv('/content/sample_data/total_2016.csv')\n",
        "# print(Total_table_cts2016)"
      ],
      "metadata": {
        "id": "JD15glTnO0pL"
      },
      "execution_count": null,
      "outputs": []
    },
    {
      "cell_type": "code",
      "source": [
        "CTUID_CA = pd.read_csv('/content/sample_data/CTUID_CA.csv')\n",
        "CTUID_CA = CTUID_CA.rename(columns={'CTUID': 'CT_2016'})\n",
        "\n",
        "Cts_2016 = pd.read_csv('/content/sample_data/CTs_2016_TT.csv')\n",
        "\n",
        "Total_table_cts_tt = pd.merge(CTUID_CA, Cts_2016, how=\"left\", on=\"CT_2016\")\n",
        "Total_table_cts_tt"
      ],
      "metadata": {
        "id": "358dM2OSUaaM"
      },
      "execution_count": null,
      "outputs": []
    }
  ]
}